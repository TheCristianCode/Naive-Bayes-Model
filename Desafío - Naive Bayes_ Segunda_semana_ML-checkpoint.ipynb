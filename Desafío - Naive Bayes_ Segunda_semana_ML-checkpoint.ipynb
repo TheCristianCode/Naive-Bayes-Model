{
 "cells": [
  {
   "cell_type": "code",
   "execution_count": null,
   "metadata": {},
   "outputs": [],
   "source": [
    "Nombre: Cristian Valdés Encina\n",
    "\n",
    "Generación: G42\n",
    "\n",
    "Profesores: heriberto García- Juan Pablo Ramírez\n",
    "    \n",
    "Desafío: Naive Bayes"
   ]
  },
  {
   "cell_type": "markdown",
   "metadata": {},
   "source": [
    "Descripción\n",
    "\n",
    "● En esta sesión trabajaremos con una serie de base de datos sobre letras musicales de\n",
    "distintos artistas. Cada uno de los csv se encuentra en la carpeta dump dentro del\n",
    "proyecto.\n",
    "\n",
    "● Cada csv tiene el nombre del artista a analizar. Los archivos contienen el nombre del\n",
    "artista, el género musical del artista, el nombre de la canción y las letras.\n",
    "\n",
    "● En base a esta información, se les pide un modelo generativo que pueda predecir el\n",
    "género de una canción a partir de la letra de una canción.\n",
    "\n",
    "● Existen 4 géneros que se registran en la base de datos, por lo que para esta actividad trabajaremos con un Multinomial Naive Bayes.\n"
   ]
  },
  {
   "cell_type": "code",
   "execution_count": null,
   "metadata": {},
   "outputs": [],
   "source": [
    "#DESAFÍO 1#\n",
    "#---------------------------------------------------------------------------------------#\n",
    "Ejercicio 1: Preparar el ambiente de trabajo\n",
    "    \n",
    "● Importe los módulos numpy , pandas , matplotlib , seaborn , glob y os siguiendo las\n",
    "buenas prácticas. Los últimos dos módulos permitirán realizar la importación de\n",
    "múltiples archivos dentro de la carpeta dump.\n",
    "\n",
    "● Para ello genere un objeto que guarde en una lista todos los archivos alojados en dump\n",
    "utilizando glob.glob y os.getcwd() para extraer las rutas absolutas. Posteriormente\n",
    "genere un objeto pd.DataFrame que contenga todos los csv .\n",
    "\n",
    "● Asegúrese de eliminar la columna Unnamed: 0 que se genera por defecto."
   ]
  },
  {
   "cell_type": "code",
   "execution_count": 1,
   "metadata": {},
   "outputs": [],
   "source": [
    "#librerias manipulacion de datos y graficos\n",
    "import pandas as pd\n",
    "import numpy as np\n",
    "import matplotlib.pyplot as plt\n",
    "import seaborn as sns\n",
    "from scipy import stats\n",
    "\n",
    "#librerias modelamiento de los datos \n",
    "from sklearn.linear_model import LinearRegression\n",
    "from sklearn.metrics import mean_squared_error, r2_score, median_absolute_error\n",
    "from sklearn.model_selection import train_test_split\n",
    "import statsmodels.api as smf\n",
    "from sklearn.preprocessing import StandardScaler\n",
    "import statsmodels.formula.api as smf\n",
    "import warnings\n",
    "from sklearn.naive_bayes import BernoulliNB\n",
    "from sklearn.preprocessing import LabelEncoder\n",
    "from sklearn.model_selection import train_test_split\n",
    "from sklearn.metrics import confusion_matrix\n",
    "from sklearn.metrics import classification_report\n",
    "import seaborn as sns\n",
    "import glob, os\n",
    "\n"
   ]
  },
  {
   "cell_type": "code",
   "execution_count": 2,
   "metadata": {},
   "outputs": [],
   "source": [
    "archivos_todos = glob.glob(\"dump/*\") #dump_plus_pop tienes mas datos!"
   ]
  },
  {
   "cell_type": "code",
   "execution_count": 3,
   "metadata": {},
   "outputs": [],
   "source": [
    "route = os.getcwd()"
   ]
  },
  {
   "cell_type": "code",
   "execution_count": 4,
   "metadata": {},
   "outputs": [
    {
     "data": {
      "text/plain": [
       "['dump\\\\anthrax_scrape.csv',\n",
       " 'dump\\\\a_tribe_called_quest_scrape.csv',\n",
       " 'dump\\\\black_star_scrape.csv',\n",
       " 'dump\\\\bob_dylan_scrape.csv',\n",
       " 'dump\\\\britney_spears_scrape.csv',\n",
       " 'dump\\\\bruce_springsteen_scrape.csv',\n",
       " 'dump\\\\cannibal_corpse_scrape.csv',\n",
       " 'dump\\\\carly_rae_jepsen_scrape.csv',\n",
       " 'dump\\\\deicide_scrape.csv',\n",
       " 'dump\\\\desktop.ini',\n",
       " 'dump\\\\de_la_soul_scrape.csv',\n",
       " 'dump\\\\dr._dre_scrape.csv',\n",
       " 'dump\\\\dua_lipa_scrape.csv',\n",
       " 'dump\\\\eminem_scrape.csv',\n",
       " 'dump\\\\faith_no_more_scrape.csv',\n",
       " 'dump\\\\ghostface_killah_scrape.csv',\n",
       " 'dump\\\\gorgoroth_scrape.csv',\n",
       " 'dump\\\\immortal_scrape.csv',\n",
       " 'dump\\\\incubus_scrape.csv',\n",
       " 'dump\\\\iron_maiden_scrape.csv',\n",
       " 'dump\\\\kanye_west_scrape.csv',\n",
       " 'dump\\\\kendrick_lamar_scrape.csv',\n",
       " 'dump\\\\killer_mike_scrape.csv',\n",
       " 'dump\\\\kiss_scrape.csv',\n",
       " 'dump\\\\led_zeppelin_scrape.csv',\n",
       " 'dump\\\\lorde_scrape.csv',\n",
       " 'dump\\\\mayhem_scrape.csv',\n",
       " 'dump\\\\megadeth_scrape.csv',\n",
       " 'dump\\\\meshuggah_scrape.csv',\n",
       " 'dump\\\\metallica_scrape.csv',\n",
       " 'dump\\\\method_man_scrape.csv',\n",
       " 'dump\\\\mf_doom_scrape.csv',\n",
       " 'dump\\\\michael_jackson_scrape.csv',\n",
       " 'dump\\\\mobb_deep_scrape.csv',\n",
       " 'dump\\\\modest_mouse_scrape.csv',\n",
       " 'dump\\\\mos_def_scrape.csv',\n",
       " 'dump\\\\necrophagist_scrape.csv',\n",
       " 'dump\\\\nickelback_scrape.csv',\n",
       " 'dump\\\\nicki_minaj_scrape.csv',\n",
       " 'dump\\\\nwa_scrape.csv',\n",
       " 'dump\\\\oasis_scrape.csv',\n",
       " 'dump\\\\opeth_scrape.csv',\n",
       " 'dump\\\\pink_floyd_scrape.csv',\n",
       " 'dump\\\\public_enemy_scrape.csv',\n",
       " 'dump\\\\queen_scrape.csv',\n",
       " 'dump\\\\radiohead_scrape.csv',\n",
       " 'dump\\\\raekwon_scrape.csv',\n",
       " 'dump\\\\rage_against_the_machine_scrape.csv',\n",
       " 'dump\\\\red_hot_chili_peppers_scrape.csv',\n",
       " 'dump\\\\rush_scrape.csv',\n",
       " 'dump\\\\sam_smith_scrape.csv',\n",
       " 'dump\\\\sia_scrape.csv',\n",
       " 'dump\\\\slayer_scrape.csv',\n",
       " 'dump\\\\spice_girls_scrape.csv',\n",
       " 'dump\\\\system_of_a_down_scrape.csv',\n",
       " 'dump\\\\the_beatles_scrape.csv',\n",
       " 'dump\\\\the_clash_scrape.csv',\n",
       " 'dump\\\\the_doors_scrape.csv',\n",
       " 'dump\\\\the_smashing_pumpkins_scrape.csv',\n",
       " 'dump\\\\the_smiths_scrape.csv',\n",
       " 'dump\\\\tool_scrape.csv',\n",
       " 'dump\\\\vital_remains_scrape.csv',\n",
       " 'dump\\\\weezer_scrape.csv']"
      ]
     },
     "execution_count": 4,
     "metadata": {},
     "output_type": "execute_result"
    }
   ],
   "source": [
    "archivos_todos"
   ]
  },
  {
   "cell_type": "code",
   "execution_count": 5,
   "metadata": {},
   "outputs": [],
   "source": [
    "def load_data(path):\n",
    "    all_files = glob.glob(path + \"/*.csv\")\n",
    "    lista = []\n",
    "    for filename in all_files:\n",
    "        file = pd.read_csv(filename, index_col=None, header=0)\n",
    "        lista.append(file)\n",
    "    data = pd.concat(lista, axis=0, ignore_index=True)\n",
    "    return data"
   ]
  },
  {
   "cell_type": "code",
   "execution_count": 6,
   "metadata": {},
   "outputs": [],
   "source": [
    "df_lyrics = load_data(f'{route}/dump')"
   ]
  },
  {
   "cell_type": "code",
   "execution_count": 7,
   "metadata": {},
   "outputs": [],
   "source": [
    "df = df_lyrics.drop(columns = 'Unnamed: 0')"
   ]
  },
  {
   "cell_type": "code",
   "execution_count": 8,
   "metadata": {},
   "outputs": [
    {
     "data": {
      "text/plain": [
       "(9489, 4)"
      ]
     },
     "execution_count": 8,
     "metadata": {},
     "output_type": "execute_result"
    }
   ],
   "source": [
    "df.shape"
   ]
  },
  {
   "cell_type": "markdown",
   "metadata": {},
   "source": [
    "# Recodificación de la columnas del df"
   ]
  },
  {
   "cell_type": "code",
   "execution_count": 9,
   "metadata": {},
   "outputs": [],
   "source": [
    "df = df.rename(columns = {df.iloc[:, 0].name: 'Grupo/cantante'}) "
   ]
  },
  {
   "cell_type": "code",
   "execution_count": 10,
   "metadata": {},
   "outputs": [],
   "source": [
    "df = df.rename(columns = {df.iloc[:, 1].name: 'Estilo'}) "
   ]
  },
  {
   "cell_type": "code",
   "execution_count": 11,
   "metadata": {},
   "outputs": [],
   "source": [
    "df = df.rename(columns = {df.iloc[:, 2].name: 'Título de la canción'}) "
   ]
  },
  {
   "cell_type": "code",
   "execution_count": 12,
   "metadata": {},
   "outputs": [],
   "source": [
    "df = df.rename(columns = {df.iloc[:, 3].name: 'Palabras'}) "
   ]
  },
  {
   "cell_type": "code",
   "execution_count": 13,
   "metadata": {},
   "outputs": [
    {
     "name": "stdout",
     "output_type": "stream",
     "text": [
      "<class 'pandas.core.frame.DataFrame'>\n",
      "RangeIndex: 9489 entries, 0 to 9488\n",
      "Data columns (total 4 columns):\n",
      " #   Column                Non-Null Count  Dtype \n",
      "---  ------                --------------  ----- \n",
      " 0   Grupo/cantante        9489 non-null   object\n",
      " 1   Estilo                9489 non-null   object\n",
      " 2   Título de la canción  9489 non-null   object\n",
      " 3   Palabras              9489 non-null   object\n",
      "dtypes: object(4)\n",
      "memory usage: 296.7+ KB\n"
     ]
    }
   ],
   "source": [
    "df.info()"
   ]
  },
  {
   "cell_type": "code",
   "execution_count": null,
   "metadata": {},
   "outputs": [],
   "source": [
    "#DESAFÍO 2#\n",
    "#---------------------------------------------------------------------------------------#\n",
    "Ejercicio 2: Descripción de los datos\n",
    "    \n",
    "● Utilizando el objeto creado en el Ejercicio 1, genere dos gráficos de barras que resuman\n",
    "\n",
    "la siguiente información:\n",
    "    \n",
    "○ La cantidad de canciones registradas por cada artista, ordenados de mayor a\n",
    "menor.\n",
    "○ La cantidad de canciones registradas en cada género, ordenados de mayor a\n",
    "menor.\n",
    "● Comente sobre las principales tendencias."
   ]
  },
  {
   "cell_type": "code",
   "execution_count": 15,
   "metadata": {},
   "outputs": [
    {
     "data": {
      "text/plain": [
       "Int64Index([2162, 2163, 2164, 2165, 2166, 2167, 2168, 2169, 2170, 2171, 2172,\n",
       "            2173, 2174, 2175, 2176, 2177, 2178, 2179, 2180, 2181, 2182, 2183,\n",
       "            2184, 2185, 2186, 2187, 2188, 2189, 2190],\n",
       "           dtype='int64')"
      ]
     },
     "execution_count": 15,
     "metadata": {},
     "output_type": "execute_result"
    }
   ],
   "source": [
    "df[df[\"Grupo/cantante\"] == \"Dua Lipa\"].index"
   ]
  },
  {
   "cell_type": "code",
   "execution_count": 16,
   "metadata": {},
   "outputs": [
    {
     "data": {
      "image/png": "[encoded data removed]",
      "text/plain": [
       "<Figure size 1440x720 with 1 Axes>"
      ]
     },
     "metadata": {
      "needs_background": "light"
     },
     "output_type": "display_data"
    }
   ],
   "source": [
    "plt.figure(figsize=(20,10))\n",
    "# para cada elemento de nuestra columna, devuelve un número (n) y el elemento (i)\n",
    "for n, i in enumerate(['Grupo/cantante']):\n",
    "# generamos un contador de frecuencia con seaborn\n",
    "    sns.countplot(y= df[i],\n",
    "                  # ordenamos las frecuencias de mayor a menor\n",
    "                  order = df[i].value_counts().index)\n",
    "# agregamos el título\n",
    "    plt.title('Frecuencias para {}' .format(i))\n",
    "# mejoramos los márgenes\n",
    "    plt.tight_layout()"
   ]
  },
  {
   "cell_type": "code",
   "execution_count": 17,
   "metadata": {},
   "outputs": [
    {
     "data": {
      "text/plain": [
       "Eminem               493\n",
       "Bruce Springsteen    467\n",
       "Bob Dylan            447\n",
       "Britney Spears       323\n",
       "Nicki Minaj          282\n",
       "                    ... \n",
       "Dua Lipa              29\n",
       "Lorde                 27\n",
       "Black Star            23\n",
       "Gorgoroth             16\n",
       "Necrophagist          16\n",
       "Name: Grupo/cantante, Length: 61, dtype: int64"
      ]
     },
     "execution_count": 17,
     "metadata": {},
     "output_type": "execute_result"
    }
   ],
   "source": [
    "df[\"Grupo/cantante\"].value_counts()"
   ]
  },
  {
   "cell_type": "markdown",
   "metadata": {},
   "source": [
    "Comentario: De acuerdo con el gráfico anterior, es posible determinar que el cantante con mayor cantidad de temas corresponde a Eminen con alrededor de 500 canciones, mientras que Necrophagist corresponde al Grupo/cantante con menor cantidad, con un valor de 16."
   ]
  },
  {
   "cell_type": "code",
   "execution_count": 19,
   "metadata": {},
   "outputs": [
    {
     "data": {
      "image/png": "[encoded data removed]",
      "text/plain": [
       "<Figure size 1080x576 with 1 Axes>"
      ]
     },
     "metadata": {
      "needs_background": "light"
     },
     "output_type": "display_data"
    }
   ],
   "source": [
    "plt.figure(figsize=(15,8))\n",
    "# para cada elemento de nuestra columna, devuelve un número (n) y el elemento (i)\n",
    "for n, i in enumerate(['Estilo']):\n",
    "# generamos un contador de frecuencia con seaborn\n",
    "    sns.countplot(y= df[i],\n",
    "                  # ordenamos las frecuencias de mayor a menor\n",
    "                  order = df[i].value_counts().index)\n",
    "# agregamos el título\n",
    "    plt.title('Frecuencias para {}' .format(i))\n",
    "# mejoramos los márgenes\n",
    "    plt.tight_layout()"
   ]
  },
  {
   "cell_type": "code",
   "execution_count": 20,
   "metadata": {},
   "outputs": [
    {
     "data": {
      "text/plain": [
       "rock      4140\n",
       "hiphop    2535\n",
       "metal     1582\n",
       "pop       1232\n",
       "Name: Estilo, dtype: int64"
      ]
     },
     "execution_count": 20,
     "metadata": {},
     "output_type": "execute_result"
    }
   ],
   "source": [
    "df[\"Estilo\"].value_counts()"
   ]
  },
  {
   "cell_type": "markdown",
   "metadata": {},
   "source": [
    "Comentario: De acuerdo al gráfico anterior, es posible determinar que el estilo con mayor cantidad de canciones corresponde a \"rock\" con 4140 canciones, mientras que el estilo \"pop\" posee la menor correspondiente a 1232."
   ]
  },
  {
   "cell_type": "code",
   "execution_count": null,
   "metadata": {},
   "outputs": [],
   "source": [
    "#DESAFÍO 3#\n",
    "#---------------------------------------------------------------------------------------#\n",
    "Ejercicio 3: Matriz de ocurrencias\n",
    "    \n",
    "Digresión: Tokenización de Textos\n",
    "    \n",
    "Para poder trabajar con textos, debemos pasarlos a una matriz dispersa , donde cada fila representará una entrada (en este caso, una canción), y cada columna representará una palabra (token) .  \n",
    "Este es el proceso de tokenización: Identificar la ocurrencia de una palabra específica dentro de un conjunto de textos (corpus). El tokenizador más simple sklearn.feature_extraction.text.CountVectorizer \n",
    "genera una colección de textos a una matriz que representa la frecuencia dentro del texto de una palabra específica. \n",
    "    \n",
    "Importe la clase CountVectorizer dentro de los módulos feature_extraction.text\n",
    "de la librería sklearn . Lea la documentación asociada a ésta. ¿Cuál es el objetivo de\n",
    "esta clase?\n",
    "\n",
    "● Aplique la clase para extraer las 100 palabras más repetidas en toda la base de datos.\n",
    "● Genere una función que replique el procedimiento para cada uno de los géneros.\n",
    "● Comente sobre las principales características de cada género en cuanto a sus palabras"
   ]
  },
  {
   "cell_type": "code",
   "execution_count": 22,
   "metadata": {},
   "outputs": [],
   "source": [
    "from sklearn.feature_extraction.text import CountVectorizer"
   ]
  },
  {
   "cell_type": "code",
   "execution_count": null,
   "metadata": {},
   "outputs": [],
   "source": [
    "CountVectorizer\n",
    "\n",
    "Objetivo:Convierte una colección de documentos de texto en una matriz de recuentos de tokens\n",
    "    \n",
    "Posee los siquientes parametros:\n",
    "    (input='content',\n",
    "    encoding='utf-8',\n",
    "    decode_error='strict',\n",
    "    strip_accents=None,\n",
    "    lowercase=True,\n",
    "    preprocessor=None,\n",
    "    tokenizer=None,\n",
    "    stop_words=None,\n",
    "    token_pattern='(?u)\\\\b\\\\w\\\\w+\\\\b',\n",
    "    ngram_range=(1, 1),\n",
    "    analyzer='word',\n",
    "    max_df=1.0,\n",
    "    min_df=1,\n",
    "    max_features=None,\n",
    "    vocabulary=None,\n",
    "    binary=False,\n",
    "    dtype=<class 'numpy.int64'>,)\n"
   ]
  },
  {
   "cell_type": "code",
   "execution_count": null,
   "metadata": {},
   "outputs": [],
   "source": [
    "# Aplique la clase para extraer las 100 palabras más repetidas en toda la base de datos"
   ]
  },
  {
   "cell_type": "code",
   "execution_count": 23,
   "metadata": {},
   "outputs": [],
   "source": [
    "from sklearn.feature_extraction.text import CountVectorizer\n",
    "\n",
    "count_vectorizer=CountVectorizer(stop_words = 'english')\n",
    "\n",
    "count_vectorizer_fit = count_vectorizer.fit_transform(df[\"Palabras\"])\n",
    "\n",
    "words = count_vectorizer.get_feature_names()\n",
    "# extraemos frecuencia\n",
    "words_freq = count_vectorizer_fit.toarray().sum(axis=0)\n",
    "\n",
    "word_quantities = pd.Series(words_freq, index=words).sort_values(ascending=False)"
   ]
  },
  {
   "cell_type": "markdown",
   "metadata": {},
   "source": [
    "# Primeras 100 palabras más nombradas del df"
   ]
  },
  {
   "cell_type": "code",
   "execution_count": 24,
   "metadata": {},
   "outputs": [
    {
     "name": "stdout",
     "output_type": "stream",
     "text": [
      "like 19629\n",
      "don 17398\n",
      "know 14962\n",
      "got 14171\n",
      "just 13978\n",
      "love 11268\n",
      "yeah 11071\n",
      "ll 10028\n",
      "oh 9879\n",
      "cause 8356\n",
      "time 8037\n",
      "let 8009\n",
      "come 7866\n",
      "man 7467\n",
      "ain 7323\n",
      "make 6821\n",
      "baby 6735\n",
      "want 6698\n",
      "say 6684\n",
      "right 6207\n",
      "shit 6128\n",
      "ve 5924\n",
      "way 5713\n",
      "life 5710\n",
      "wanna 5356\n",
      "gonna 5121\n",
      "yo 4859\n",
      "feel 4704\n",
      "need 4579\n",
      "fuck 4537\n",
      "tell 4533\n",
      "nigga 4334\n",
      "em 4292\n",
      "ya 4222\n",
      "day 4217\n",
      "away 4126\n",
      "world 4106\n",
      "good 3910\n",
      "think 3902\n",
      "night 3835\n",
      "look 3805\n",
      "little 3708\n",
      "said 3692\n",
      "girl 3618\n",
      "hey 3341\n",
      "gotta 3272\n",
      "won 3161\n",
      "niggas 3057\n",
      "god 3011\n",
      "mind 3000\n",
      "heart 2861\n",
      "eyes 2857\n",
      "real 2846\n",
      "black 2832\n",
      "stop 2811\n",
      "new 2803\n",
      "better 2801\n",
      "long 2781\n",
      "bitch 2756\n",
      "people 2739\n",
      "ooh 2719\n",
      "really 2681\n",
      "head 2669\n",
      "money 2551\n",
      "live 2544\n",
      "hear 2529\n",
      "home 2503\n",
      "ah 2476\n",
      "face 2437\n",
      "ass 2421\n",
      "big 2363\n",
      "did 2359\n",
      "hold 2326\n",
      "die 2303\n",
      "bad 2217\n",
      "la 2202\n",
      "things 2186\n",
      "run 2176\n",
      "rock 2165\n",
      "try 2165\n",
      "uh 2146\n",
      "light 2101\n",
      "turn 2078\n",
      "dead 2076\n",
      "leave 2056\n",
      "hit 2048\n",
      "hard 2037\n",
      "gone 2016\n",
      "tonight 2010\n",
      "till 2003\n",
      "high 1989\n",
      "boy 1971\n",
      "soul 1921\n",
      "inside 1915\n",
      "everybody 1903\n",
      "death 1897\n",
      "left 1895\n",
      "thing 1882\n",
      "end 1829\n",
      "stay 1828\n"
     ]
    }
   ],
   "source": [
    "i = 0\n",
    "for colname, rowname in word_quantities.iteritems():\n",
    "    if i<=99:\n",
    "        print(colname,rowname)\n",
    "    i+=1"
   ]
  },
  {
   "cell_type": "markdown",
   "metadata": {},
   "source": [
    "Cometario: primer lugar: like 19629, lugar 100:stay 1828."
   ]
  },
  {
   "cell_type": "markdown",
   "metadata": {},
   "source": [
    "# Genere una función que replique el procedimiento para cada uno de los géneros.\n"
   ]
  },
  {
   "cell_type": "code",
   "execution_count": 25,
   "metadata": {},
   "outputs": [],
   "source": [
    "def hundred_words_style(df,estilo, palabras, tipo_estilo):\n",
    "      # docstring\n",
    "    \"\"\"\n",
    "    Definición ¿qué realiza la función?\n",
    "    \n",
    "    Devuelve de forma ordenada las 100 palabras más repetidas de un estilo de música \n",
    "    -Parámetros de ingreso:\n",
    "     df: dataframe o bases de datos\n",
    "     estilo: serie del df, contiene estilos predeterminados\n",
    "     palabras: vector objetivo a analizar\n",
    "     tipo_estilo: estilo conocidos a proiri, presente en el atributo \"estilo\"\n",
    "\n",
    "    -Parametros de salida\n",
    "    -- Entrega una \"lista\" con las 100 palabras que más aparecen en un determinado estilo ordenadas.\n",
    "    \"\"\"\n",
    "    count_vectorizer = CountVectorizer(stop_words = 'english', analyzer=\"word\")\n",
    "    count_vectorizer_fit = count_vectorizer.fit_transform(df[df[estilo]== tipo_estilo][palabras])# entrenamiento, tranformacion y filtro de palabras por estilo\n",
    "    words = count_vectorizer.get_feature_names()    \n",
    "    # extraemos frecuencia\n",
    "    words_freq = count_vectorizer_fit.toarray().sum(axis=0)\n",
    "    df = pd.Series(words_freq, index=words).sort_values(ascending=False)\n",
    "    i = 1\n",
    "    for colname, rowname in df.iteritems():\n",
    "        if i<=100:\n",
    "            print(f'{colname}, repetida {rowname}')\n",
    "        i+=1"
   ]
  },
  {
   "cell_type": "markdown",
   "metadata": {},
   "source": [
    "# ● Comente sobre las principales características de cada género en cuanto a sus palabras"
   ]
  },
  {
   "cell_type": "code",
   "execution_count": 26,
   "metadata": {},
   "outputs": [
    {
     "name": "stdout",
     "output_type": "stream",
     "text": [
      "don, repetida 5284\n",
      "love, repetida 5114\n",
      "know, repetida 4702\n",
      "oh, repetida 4258\n",
      "yeah, repetida 4157\n",
      "just, repetida 4103\n",
      "got, repetida 3872\n",
      "ll, repetida 3825\n",
      "like, repetida 3710\n",
      "ve, repetida 2877\n",
      "come, repetida 2860\n",
      "time, repetida 2734\n",
      "baby, repetida 2711\n",
      "gonna, repetida 2497\n",
      "let, repetida 2410\n",
      "want, repetida 2278\n",
      "say, repetida 2174\n",
      "way, repetida 2151\n",
      "man, repetida 2004\n",
      "away, repetida 1991\n",
      "right, repetida 1980\n",
      "make, repetida 1893\n",
      "night, repetida 1856\n",
      "day, repetida 1784\n",
      "cause, repetida 1750\n",
      "hey, repetida 1746\n",
      "feel, repetida 1620\n",
      "life, repetida 1616\n",
      "little, repetida 1609\n",
      "need, repetida 1494\n",
      "said, repetida 1474\n",
      "ooh, repetida 1444\n",
      "world, repetida 1441\n",
      "good, repetida 1406\n",
      "tell, repetida 1379\n",
      "heart, repetida 1363\n",
      "wanna, repetida 1355\n",
      "long, repetida 1297\n",
      "girl, repetida 1258\n",
      "ain, repetida 1254\n",
      "ah, repetida 1247\n",
      "won, repetida 1203\n",
      "home, repetida 1177\n",
      "eyes, repetida 1168\n",
      "look, repetida 1103\n",
      "think, repetida 1088\n",
      "la, repetida 1083\n",
      "mind, repetida 1024\n",
      "tonight, repetida 1016\n",
      "light, repetida 965\n",
      "gotta, repetida 952\n",
      "hear, repetida 892\n",
      "better, repetida 879\n",
      "things, repetida 861\n",
      "yes, repetida 823\n",
      "gone, repetida 808\n",
      "really, repetida 802\n",
      "did, repetida 801\n",
      "everybody, repetida 795\n",
      "people, repetida 784\n",
      "head, repetida 766\n",
      "old, repetida 760\n",
      "sun, repetida 759\n",
      "rock, repetida 755\n",
      "believe, repetida 715\n",
      "face, repetida 702\n",
      "turn, repetida 698\n",
      "hand, repetida 695\n",
      "hold, repetida 689\n",
      "song, repetida 688\n",
      "try, repetida 676\n",
      "inside, repetida 676\n",
      "live, repetida 664\n",
      "hard, repetida 655\n",
      "leave, repetida 655\n",
      "soul, repetida 635\n",
      "new, repetida 631\n",
      "run, repetida 625\n",
      "going, repetida 619\n",
      "end, repetida 612\n",
      "dream, repetida 608\n",
      "big, repetida 603\n",
      "thing, repetida 593\n",
      "god, repetida 590\n",
      "wrong, repetida 588\n",
      "high, repetida 587\n",
      "die, repetida 585\n",
      "place, repetida 584\n",
      "sky, repetida 584\n",
      "em, repetida 583\n",
      "stop, repetida 581\n",
      "roll, repetida 573\n",
      "dance, repetida 567\n",
      "left, repetida 565\n",
      "stand, repetida 563\n",
      "town, repetida 558\n",
      "round, repetida 548\n",
      "fall, repetida 548\n",
      "days, repetida 542\n",
      "rain, repetida 541\n"
     ]
    }
   ],
   "source": [
    "hundred_words_style(df,\"Estilo\", \"Palabras\", \"rock\")"
   ]
  },
  {
   "cell_type": "markdown",
   "metadata": {},
   "source": [
    "Comentario: Dentro de las 100 palabras más nombradas en el estilo \"metal\", el primer lugar corresponde a \"don\" con 5284 mientras que la número 100 corresponde a \"rain\" 541 veces."
   ]
  },
  {
   "cell_type": "code",
   "execution_count": 27,
   "metadata": {},
   "outputs": [
    {
     "name": "stdout",
     "output_type": "stream",
     "text": [
      "don, repetida 3329\n",
      "like, repetida 2995\n",
      "love, repetida 2914\n",
      "oh, repetida 2737\n",
      "know, repetida 2677\n",
      "just, repetida 2610\n",
      "yeah, repetida 2244\n",
      "baby, repetida 2192\n",
      "got, repetida 2156\n",
      "ll, repetida 1743\n",
      "let, repetida 1672\n",
      "wanna, repetida 1652\n",
      "want, repetida 1529\n",
      "cause, repetida 1523\n",
      "make, repetida 1409\n",
      "come, repetida 1383\n",
      "say, repetida 1259\n",
      "time, repetida 1225\n",
      "ve, repetida 1122\n",
      "ain, repetida 1065\n",
      "girl, repetida 1020\n",
      "feel, repetida 1016\n",
      "tell, repetida 1012\n",
      "need, repetida 1000\n",
      "way, repetida 934\n",
      "right, repetida 886\n",
      "really, repetida 842\n",
      "gonna, repetida 842\n",
      "ya, repetida 801\n",
      "life, repetida 718\n",
      "bad, repetida 699\n",
      "think, repetida 695\n",
      "away, repetida 689\n",
      "heart, repetida 687\n",
      "look, repetida 683\n",
      "good, repetida 679\n",
      "night, repetida 670\n",
      "ooh, repetida 661\n",
      "world, repetida 636\n",
      "stop, repetida 628\n",
      "won, repetida 596\n",
      "hold, repetida 583\n",
      "gotta, repetida 569\n",
      "ah, repetida 569\n",
      "money, repetida 565\n",
      "boy, repetida 543\n",
      "bitch, repetida 538\n",
      "tonight, repetida 533\n",
      "day, repetida 522\n",
      "em, repetida 510\n",
      "said, repetida 501\n",
      "hey, repetida 491\n",
      "la, repetida 489\n",
      "little, repetida 473\n",
      "nicki, repetida 452\n",
      "man, repetida 451\n",
      "girls, repetida 433\n",
      "ma, repetida 427\n",
      "bitches, repetida 423\n",
      "uh, repetida 417\n",
      "fuck, repetida 402\n",
      "mind, repetida 397\n",
      "better, repetida 390\n",
      "turn, repetida 388\n",
      "body, repetida 377\n",
      "did, repetida 374\n",
      "niggas, repetida 366\n",
      "na, repetida 359\n",
      "eyes, repetida 357\n",
      "dance, repetida 342\n",
      "real, repetida 341\n",
      "shit, repetida 337\n",
      "gone, repetida 331\n",
      "yo, repetida 329\n",
      "things, repetida 323\n",
      "people, repetida 323\n",
      "leave, repetida 319\n",
      "hear, repetida 312\n",
      "face, repetida 308\n",
      "play, repetida 305\n",
      "stay, repetida 305\n",
      "thought, repetida 304\n",
      "break, repetida 303\n",
      "da, repetida 302\n",
      "hot, repetida 300\n",
      "long, repetida 298\n",
      "nigga, repetida 298\n",
      "till, repetida 298\n",
      "care, repetida 297\n",
      "try, repetida 288\n",
      "forever, repetida 287\n",
      "fall, repetida 286\n",
      "big, repetida 286\n",
      "new, repetida 285\n",
      "crazy, repetida 282\n",
      "believe, repetida 282\n",
      "thing, repetida 274\n",
      "everybody, repetida 270\n",
      "eh, repetida 269\n",
      "chick, repetida 267\n"
     ]
    }
   ],
   "source": [
    "hundred_words_style(df,\"Estilo\", \"Palabras\", \"pop\")"
   ]
  },
  {
   "cell_type": "markdown",
   "metadata": {},
   "source": [
    "Comentario: Dentro de las 100 palabras más nombradas en el estilo \"pop\", el primer lugar corresponde a \"don\" con 3329 repeticiones mientras que la número 100 corresponde a \"chick\" 267 veces."
   ]
  },
  {
   "cell_type": "code",
   "execution_count": 28,
   "metadata": {},
   "outputs": [
    {
     "name": "stdout",
     "output_type": "stream",
     "text": [
      "like, repetida 12055\n",
      "got, repetida 7613\n",
      "don, repetida 7604\n",
      "know, repetida 6535\n",
      "just, repetida 6272\n",
      "shit, repetida 5546\n",
      "ain, repetida 4782\n",
      "cause, repetida 4737\n",
      "man, repetida 4481\n",
      "yo, repetida 4425\n",
      "yeah, repetida 4087\n",
      "nigga, repetida 3993\n",
      "fuck, repetida 3705\n",
      "let, repetida 3436\n",
      "ll, repetida 3391\n",
      "make, repetida 3099\n",
      "em, repetida 3078\n",
      "come, repetida 2992\n",
      "time, repetida 2982\n",
      "right, repetida 2936\n",
      "say, repetida 2836\n",
      "love, repetida 2830\n",
      "ya, repetida 2765\n",
      "niggas, repetida 2666\n",
      "oh, repetida 2375\n",
      "want, repetida 2360\n",
      "wanna, repetida 2230\n",
      "life, repetida 2143\n",
      "bitch, repetida 2123\n",
      "ass, repetida 2054\n",
      "real, repetida 1906\n",
      "way, repetida 1904\n",
      "tell, repetida 1772\n",
      "need, repetida 1767\n",
      "niggaz, repetida 1752\n",
      "black, repetida 1749\n",
      "baby, repetida 1735\n",
      "think, repetida 1692\n",
      "new, repetida 1615\n",
      "look, repetida 1612\n",
      "good, repetida 1611\n",
      "gotta, repetida 1609\n",
      "feel, repetida 1552\n",
      "said, repetida 1528\n",
      "little, repetida 1497\n",
      "hit, repetida 1496\n",
      "people, repetida 1469\n",
      "uh, repetida 1469\n",
      "money, repetida 1448\n",
      "day, repetida 1436\n",
      "god, repetida 1430\n",
      "stop, repetida 1391\n",
      "big, repetida 1387\n",
      "gonna, repetida 1368\n",
      "better, repetida 1334\n",
      "world, repetida 1329\n",
      "girl, repetida 1303\n",
      "head, repetida 1241\n",
      "rap, repetida 1231\n",
      "fuckin, repetida 1169\n",
      "rock, repetida 1126\n",
      "live, repetida 1125\n",
      "till, repetida 1091\n",
      "ve, repetida 1078\n",
      "wit, repetida 1065\n",
      "game, repetida 1053\n",
      "gon, repetida 1045\n",
      "mind, repetida 1036\n",
      "did, repetida 1027\n",
      "won, repetida 1024\n",
      "try, repetida 1013\n",
      "high, repetida 987\n",
      "run, repetida 986\n",
      "hey, repetida 985\n",
      "word, repetida 978\n",
      "hard, repetida 971\n",
      "face, repetida 970\n",
      "hear, repetida 967\n",
      "son, repetida 959\n",
      "bad, repetida 939\n",
      "play, repetida 935\n",
      "night, repetida 924\n",
      "leave, repetida 919\n",
      "really, repetida 916\n",
      "long, repetida 915\n",
      "damn, repetida 910\n",
      "check, repetida 900\n",
      "stay, repetida 864\n",
      "boy, repetida 857\n",
      "hold, repetida 857\n",
      "beat, repetida 850\n",
      "home, repetida 848\n",
      "thing, repetida 830\n",
      "eminem, repetida 829\n",
      "huh, repetida 827\n",
      "talk, repetida 823\n",
      "ma, repetida 821\n",
      "verse, repetida 820\n",
      "chorus, repetida 811\n",
      "bout, repetida 808\n"
     ]
    }
   ],
   "source": [
    "hundred_words_style(df,\"Estilo\", \"Palabras\", \"hiphop\")"
   ]
  },
  {
   "cell_type": "markdown",
   "metadata": {},
   "source": [
    "Comentario: Dentro de las 100 palabras más nombradas en el estilo \"hiphop\", el primer lugar corresponde a \"like\" con 12055 veces mientras que la número 100 corresponde a \"bout\" 808 veces."
   ]
  },
  {
   "cell_type": "code",
   "execution_count": 29,
   "metadata": {},
   "outputs": [
    {
     "name": "stdout",
     "output_type": "stream",
     "text": [
      "life, repetida 1233\n",
      "don, repetida 1181\n",
      "death, repetida 1139\n",
      "time, repetida 1096\n",
      "ll, repetida 1069\n",
      "know, repetida 1048\n",
      "just, repetida 993\n",
      "blood, repetida 884\n",
      "like, repetida 869\n",
      "die, repetida 866\n",
      "ve, repetida 847\n",
      "god, repetida 796\n",
      "away, repetida 776\n",
      "dead, repetida 771\n",
      "eyes, repetida 770\n",
      "way, repetida 724\n",
      "world, repetida 700\n",
      "come, repetida 631\n",
      "hell, repetida 598\n",
      "yeah, repetida 583\n",
      "end, repetida 581\n",
      "pain, repetida 567\n",
      "kill, repetida 543\n",
      "mind, repetida 543\n",
      "man, repetida 531\n",
      "want, repetida 531\n",
      "got, repetida 530\n",
      "feel, repetida 516\n",
      "oh, repetida 509\n",
      "inside, repetida 494\n",
      "live, repetida 492\n",
      "let, repetida 491\n",
      "day, repetida 475\n",
      "face, repetida 457\n",
      "soul, repetida 456\n",
      "think, repetida 427\n",
      "make, repetida 420\n",
      "head, repetida 416\n",
      "say, repetida 415\n",
      "gonna, repetida 414\n",
      "light, repetida 412\n",
      "love, repetida 410\n",
      "look, repetida 407\n",
      "right, repetida 405\n",
      "black, repetida 404\n",
      "left, repetida 386\n",
      "night, repetida 385\n",
      "war, repetida 377\n",
      "tell, repetida 370\n",
      "evil, repetida 364\n",
      "fear, repetida 361\n",
      "hear, repetida 358\n",
      "hate, repetida 348\n",
      "cause, repetida 346\n",
      "won, repetida 338\n",
      "free, repetida 334\n",
      "lies, repetida 334\n",
      "fight, repetida 326\n",
      "flesh, repetida 323\n",
      "need, repetida 318\n",
      "run, repetida 317\n",
      "gone, repetida 304\n",
      "body, repetida 300\n",
      "cold, repetida 296\n",
      "heart, repetida 294\n",
      "lost, repetida 290\n",
      "coming, repetida 285\n",
      "fall, repetida 281\n",
      "new, repetida 272\n",
      "long, repetida 271\n",
      "place, repetida 261\n",
      "dark, repetida 250\n",
      "believe, repetida 247\n",
      "forever, repetida 244\n",
      "darkness, repetida 241\n",
      "hands, repetida 240\n",
      "truth, repetida 238\n",
      "satan, repetida 236\n",
      "earth, repetida 234\n",
      "lives, repetida 233\n",
      "fucking, repetida 231\n",
      "lie, repetida 230\n",
      "sun, repetida 228\n",
      "things, repetida 228\n",
      "killing, repetida 226\n",
      "open, repetida 226\n",
      "deep, repetida 226\n",
      "dream, repetida 223\n",
      "hand, repetida 222\n",
      "ain, repetida 222\n",
      "home, repetida 221\n",
      "comes, repetida 221\n",
      "human, repetida 220\n",
      "burn, repetida 219\n",
      "living, repetida 218\n",
      "till, repetida 215\n",
      "good, repetida 214\n",
      "save, repetida 213\n",
      "stop, repetida 211\n",
      "lord, repetida 210\n"
     ]
    }
   ],
   "source": [
    "hundred_words_style(df,\"Estilo\", \"Palabras\", \"metal\")"
   ]
  },
  {
   "cell_type": "markdown",
   "metadata": {},
   "source": [
    "Comentario: Dentro de las 100 palabras más nombradas en el estilo \"metal\", el primer lugar corresponde a \"life\" 1233 veces mientras que la número 100 corresponde a \"lord\" 210 veces."
   ]
  },
  {
   "cell_type": "code",
   "execution_count": null,
   "metadata": {},
   "outputs": [],
   "source": [
    "#DESAFÍO 4#\n",
    "#---------------------------------------------------------------------------------------#\n",
    "Digresión: sklearn Pipelines\n",
    "    \n",
    "La clase Pipeline del módulo sklearn.pipeline permite concatenar múltiples pasos de\n",
    "procesamiento y preprocesamiento en un estimador generado por algún método de\n",
    "scikit-learn . \n",
    "\n",
    "En sí, la clase cuenta con los métodos clásicos fit , predict y score y\n",
    "presenta un comportamiento idéntico a los demás objetos de scikit-learn . Uno de los usos\n",
    "más comunes es para concatenar pasos de preprocesamiento con un modelo.\n",
    "\n",
    "Componentes de un Pipeline\n",
    "Imaginemos que deseamos implementar el siguiente modelo. Considerando un conjunto de\n",
    "datos, deseo Estandarizar , posteriormente extraer sus principales componentes y finalmente\n",
    "aplicar un modelo de regresión lineal . Este flujo se puede reexpresar como:\n",
    "    \n",
    "pipeline_model = Pipeline([( 'scale' , StandardScaler()),\n",
    "( 'pca' , RandomizedPCA(n_components= 3 )),\n",
    "( 'model' , LinearRegression())])\n",
    "\n",
    "Algunos de los elementos a considerar:\n",
    "    \n",
    "1. Cada paso se considera como una tupla, donde se declara el nombre del paso y la\n",
    "función a implementar. En este caso, nuestro primer paso es estandarizar la matriz, por\n",
    "lo que asociamos el método StandardScaler con el string scale.\n",
    "\n",
    "2. Todos los pasos declarados se incorporan en una lista, donde el orden de ingreso\n",
    "representa el orden de ejecución.Posteriormente el objeto creado puede utilizarse con los siguientes métodos:\n",
    "\n",
    "pipeline_model.fit(X_train, y_train)\n",
    "y_hat = pipeline_model.predict(y_test)\n",
    "-------------------------------------------------------------------------------------------------------------\n",
    "\n",
    "● Importe MultinomialNB , train_test_split , Pipeline , confusion_matrix y\n",
    "classification_report .\n",
    "\n",
    "● Genere las muestras de entrenamiento y validación reservando un 40% para validación y\n",
    "declarando una semilla pseudoaleatoria.\n",
    "\n",
    "● Monte el modelo dentro de un Pipeline , donde el primer paso es implementar\n",
    "CountVectorizer y el segundo es ejecutar el clasificador MultinomialNB .\n",
    "\n",
    "● A continuación se les presenta una lista de letras, ¿cuáles serían las predicciones\n",
    "correspondientes?\n",
    "\n",
    "Nomenclatura:\n",
    "--------------------------------\n",
    "|letras = Palabras (para mi df)|\n",
    "|genero = Estilo|---------------\n",
    "--------------------------------\n",
    "● Genere una predicción implementando la muestra de validación y contraste las\n",
    "predicciones del modelo con las etiquetas verdaderas. Reporte las principales métricas.\n"
   ]
  },
  {
   "cell_type": "code",
   "execution_count": 30,
   "metadata": {},
   "outputs": [],
   "source": [
    "from sklearn.model_selection import train_test_split\n",
    "from sklearn.pipeline import Pipeline\n",
    "from sklearn.metrics import classification_report\n",
    "from sklearn.metrics import confusion_matrix\n",
    "from sklearn.naive_bayes import MultinomialNB"
   ]
  },
  {
   "cell_type": "code",
   "execution_count": 31,
   "metadata": {},
   "outputs": [
    {
     "data": {
      "text/plain": [
       "Index(['Grupo/cantante', 'Estilo', 'Título de la canción', 'Palabras'], dtype='object')"
      ]
     },
     "execution_count": 31,
     "metadata": {},
     "output_type": "execute_result"
    }
   ],
   "source": [
    "df.columns"
   ]
  },
  {
   "cell_type": "code",
   "execution_count": 32,
   "metadata": {},
   "outputs": [],
   "source": [
    "X_train, X_test, y_train, y_test = train_test_split(df.loc[:,'Palabras'] # algo pasa MULTINOMIAL!!!\n",
    "                                                    ,df['Estilo'], random_state= 11238 ,\n",
    "                                                    test_size= .4 )"
   ]
  },
  {
   "cell_type": "markdown",
   "metadata": {},
   "source": [
    "# Comprobación de la partición de la matriz"
   ]
  },
  {
   "cell_type": "code",
   "execution_count": 33,
   "metadata": {},
   "outputs": [
    {
     "data": {
      "text/plain": [
       "0.5999578459268626"
      ]
     },
     "execution_count": 33,
     "metadata": {},
     "output_type": "execute_result"
    }
   ],
   "source": [
    "X_train.shape[0]/df.shape[0]"
   ]
  },
  {
   "cell_type": "code",
   "execution_count": 34,
   "metadata": {},
   "outputs": [
    {
     "data": {
      "text/plain": [
       "(5693,)"
      ]
     },
     "execution_count": 34,
     "metadata": {},
     "output_type": "execute_result"
    }
   ],
   "source": [
    "X_train.shape"
   ]
  },
  {
   "cell_type": "code",
   "execution_count": 35,
   "metadata": {},
   "outputs": [
    {
     "data": {
      "text/plain": [
       "(5693,)"
      ]
     },
     "execution_count": 35,
     "metadata": {},
     "output_type": "execute_result"
    }
   ],
   "source": [
    "y_train.shape"
   ]
  },
  {
   "cell_type": "code",
   "execution_count": 36,
   "metadata": {},
   "outputs": [
    {
     "data": {
      "text/plain": [
       "(3796,)"
      ]
     },
     "execution_count": 36,
     "metadata": {},
     "output_type": "execute_result"
    }
   ],
   "source": [
    "y_test.shape\n"
   ]
  },
  {
   "cell_type": "markdown",
   "metadata": {},
   "source": [
    "# ● Monte el modelo dentro de un Pipeline , donde el primer paso es implementar CountVectorizer y el segundo es ejecutar el clasificador MultinomialNB ."
   ]
  },
  {
   "cell_type": "code",
   "execution_count": 37,
   "metadata": {},
   "outputs": [],
   "source": [
    "pipeline_model = Pipeline([('count_vectorizer', CountVectorizer()),('clasificador', MultinomialNB())])"
   ]
  },
  {
   "cell_type": "code",
   "execution_count": 38,
   "metadata": {},
   "outputs": [
    {
     "data": {
      "text/plain": [
       "Pipeline(steps=[('count_vectorizer', CountVectorizer()),\n",
       "                ('clasificador', MultinomialNB())])"
      ]
     },
     "execution_count": 38,
     "metadata": {},
     "output_type": "execute_result"
    }
   ],
   "source": [
    "pipeline_model.fit(X_train, y_train)"
   ]
  },
  {
   "cell_type": "code",
   "execution_count": 39,
   "metadata": {},
   "outputs": [],
   "source": [
    "sample = [\"I got a place in the underworld\", # Brody Dalle - Underworld\n",
    "         'As veils of ignorance, hatred retains Storm of arrows through karma Seeking light through samsara' , # Gorguts - Forgotten Arrows\n",
    "         \"Bye bye Don't want to be a fool for you Just another player in your game for two You may hate me but it ain't no lie\" , #NSYNC - Bye Bye Bye\n",
    "         'Move bitch, get out the way Get out the way bitch, get out the way Move bitch, get out the way Get out the way bitch, get out the way' , # Ludacris - Move B*tch\n",
    "        \"Sexual violence doesn't start and end with rape It starts in our books and behind our school gates\" # IDLES - Mother,\n",
    "         \"Take it from the girl you claimed to love You gonna get some bad karma I'm the one who had to learn to \\build a heart made of armor From the girl who made you soup and tied your shoes when you were hurting\\You are not deserving, you are not deserving\" , #Banks - Drowning\n",
    "]"
   ]
  },
  {
   "cell_type": "markdown",
   "metadata": {},
   "source": [
    "# ● Genere una predicción implementando la muestra de validación y contraste las predicciones del modelo con las etiquetas verdaderas. Reporte las principales métricas."
   ]
  },
  {
   "cell_type": "code",
   "execution_count": 40,
   "metadata": {},
   "outputs": [
    {
     "name": "stdout",
     "output_type": "stream",
     "text": [
      "['rock' 'metal' 'rock' 'hiphop' 'rock']\n"
     ]
    }
   ],
   "source": [
    "y_hat = pipeline_model.predict(sample) #predicciones de la muestra entregada\n",
    "print(y_hat)"
   ]
  },
  {
   "cell_type": "code",
   "execution_count": 41,
   "metadata": {},
   "outputs": [
    {
     "data": {
      "text/plain": [
       "array(['rock', 'hiphop', 'rock', 'rock', 'rock'], dtype='<U6')"
      ]
     },
     "execution_count": 41,
     "metadata": {},
     "output_type": "execute_result"
    }
   ],
   "source": [
    "y_hat_2 = pipeline_model.predict(X_test)\n",
    "y_hat_2[:5]"
   ]
  },
  {
   "cell_type": "markdown",
   "metadata": {},
   "source": [
    "Cuando se compara el modelo utilizando una muestra sólo  5 filas de letras, el modelo incurriría en error del 40% acertando en un 60%"
   ]
  },
  {
   "cell_type": "code",
   "execution_count": 42,
   "metadata": {},
   "outputs": [],
   "source": [
    "y_hat_2 = pipeline_model.predict(X_test)"
   ]
  },
  {
   "cell_type": "code",
   "execution_count": 43,
   "metadata": {},
   "outputs": [
    {
     "name": "stdout",
     "output_type": "stream",
     "text": [
      "              precision    recall  f1-score   support\n",
      "\n",
      "      hiphop       0.91      0.86      0.88      1060\n",
      "       metal       0.68      0.85      0.75       504\n",
      "         pop       0.43      0.63      0.51       341\n",
      "        rock       0.86      0.76      0.81      1891\n",
      "\n",
      "    accuracy                           0.79      3796\n",
      "   macro avg       0.72      0.78      0.74      3796\n",
      "weighted avg       0.81      0.79      0.80      3796\n",
      "\n"
     ]
    }
   ],
   "source": [
    "print(classification_report(y_hat_2, y_test))"
   ]
  },
  {
   "cell_type": "markdown",
   "metadata": {},
   "source": [
    "Comentario: Es posible determinar que el modelo predice de buena manera el estilo \"hiphop\" con métricas que en promedio superan el 85%. La clase que el modelo peor predice corresponde a \"pop\", donde la precision es inferior al 50%. Por otro lado  el valor de \"macro avg\" para f1 es de un 74% (media aritmética de las clases) mientras que weighted avg, presenta un valor de 0.80 (media ponderada), ambos sobre el .74 lo que indicaría que el modelo es capaz predecir de buena forma los datos."
   ]
  },
  {
   "cell_type": "code",
   "execution_count": 44,
   "metadata": {},
   "outputs": [
    {
     "data": {
      "text/plain": [
       "rock      4140\n",
       "hiphop    2535\n",
       "metal     1582\n",
       "pop       1232\n",
       "Name: Estilo, dtype: int64"
      ]
     },
     "execution_count": 44,
     "metadata": {},
     "output_type": "execute_result"
    }
   ],
   "source": [
    "(df.Estilo.value_counts())"
   ]
  },
  {
   "cell_type": "code",
   "execution_count": 45,
   "metadata": {},
   "outputs": [
    {
     "data": {
      "image/png": "[encoded data removed]",
      "text/plain": [
       "<Figure size 1440x720 with 1 Axes>"
      ]
     },
     "metadata": {
      "needs_background": "light"
     },
     "output_type": "display_data"
    }
   ],
   "source": [
    "# en base a un vector de clases predichas\n",
    "y_hat = pipeline_model.predict(X_test)\n",
    "plt.figure(figsize=(20, 10))\n",
    "# generar una matriz confusa donde el primer argumento es el vector de prueba\n",
    "# y el segundo es el vector de clases predichas.\n",
    "# el resultado lo dividimos por el largo del vector de prueba\n",
    "# para obtener un porcentaje por sobre la cantidad de casos\n",
    "cnf = confusion_matrix(y_test, y_hat)/len(y_test)\n",
    "# guardamos las etiquetas de las clases\n",
    "target_label = ['rock','hiphop','metal','pop']\n",
    "# Implementamos un mapa de calor definiendo las clases\n",
    "sns.heatmap(cnf, xticklabels=target_label,\n",
    "            yticklabels=target_label,\n",
    "# generamos las anotaciones en términos porcentuales\n",
    "            annot= True , fmt= \".1%\" ,\n",
    "# evitamos la barra y cambiamos el colormap\n",
    "            cbar= False , cmap= 'Blues' );"
   ]
  },
  {
   "cell_type": "code",
   "execution_count": 46,
   "metadata": {},
   "outputs": [
    {
     "data": {
      "text/plain": [
       "78.8"
      ]
     },
     "execution_count": 46,
     "metadata": {},
     "output_type": "execute_result"
    }
   ],
   "source": [
    "24+11.3+5.7+37.8"
   ]
  },
  {
   "cell_type": "markdown",
   "metadata": {},
   "source": [
    "Comentario: El modelo predice correctamente el 78.8% de los datos, la peor clase predicha es \"pop\", aún cuando presenta los mayores valores de  true positive(PT) o true negative (TN). De acuerdo con el resumen de métricas, la clase \"hiphop\" es la mejor, aún cuando sus positivos/negativos verdaderos estan muy por debajo de metal y pop. Lo anterior, se fundamenta en que presenta también los falsos positivos/negativos más bajos."
   ]
  },
  {
   "cell_type": "code",
   "execution_count": null,
   "metadata": {},
   "outputs": [],
   "source": [
    "#DESAFÍO 5#\n",
    "#---------------------------------------------------------------------------------------#\n",
    "Ejercicio 5: Mejora del Modelo\n",
    "● Proponga una estrategia para mejorar el desempeño del modelo en la categoría con\n",
    "peores métricas.\n",
    "● Repita los pasos de entrenamiento y reporte de métricas, esta vez incluyendo los nuevos\n",
    "datos suministrados.\n",
    "● Comente sobre el desempeño general de este."
   ]
  },
  {
   "cell_type": "markdown",
   "metadata": {},
   "source": [
    "● Proponga una estrategia para mejorar el desempeño del modelo en la categoría con\n",
    "peores métricas.\n",
    "\n",
    "1) De acuerdo a lo visto hasta hoy, buscaría el hiperparámetro más idóneo para encontrar el mejor estimador para nuestro conjunto de datos dividiendo, los datos en una validación cruzada, pero muy probablemente los string haya que pasarlos a numeros para que sea posible encontrar el hiperparametro adecuado."
   ]
  },
  {
   "cell_type": "code",
   "execution_count": 48,
   "metadata": {},
   "outputs": [],
   "source": [
    "#Utilizacion de la base de datos con mayor cantidad destacada al inicio del desafío\n",
    "df_lyrics = load_data(f'{route}/dump_plus_pop')\n",
    "df_big = df_lyrics.drop('Unnamed: 0', axis=1)"
   ]
  },
  {
   "cell_type": "code",
   "execution_count": 49,
   "metadata": {},
   "outputs": [],
   "source": [
    "# renombrar rápido las nuevas columnas (como el anterior)\n",
    "\n",
    "df_big.columns = ['Grupo/cantante', 'Estilo', 'Título de la canción', 'Palabras']"
   ]
  },
  {
   "cell_type": "code",
   "execution_count": 50,
   "metadata": {},
   "outputs": [],
   "source": [
    "#Separacion de la matriz y vector obj.\n",
    "X_train_2, X_test_2, y_train_2, y_test_2 = train_test_split(df_big.loc[:,'Palabras'] # algo pasa MULTINOMIAL!!!\n",
    "                                                    ,df_big['Estilo'], random_state= 11238 ,\n",
    "                                                    test_size= .4 )"
   ]
  },
  {
   "cell_type": "code",
   "execution_count": 51,
   "metadata": {},
   "outputs": [
    {
     "data": {
      "text/plain": [
       "Pipeline(steps=[('count_vectorizer', CountVectorizer()),\n",
       "                ('clasificador', MultinomialNB())])"
      ]
     },
     "execution_count": 51,
     "metadata": {},
     "output_type": "execute_result"
    }
   ],
   "source": [
    "pipeline_model.fit(X_train_2, y_train_2)"
   ]
  },
  {
   "cell_type": "code",
   "execution_count": 52,
   "metadata": {},
   "outputs": [
    {
     "name": "stdout",
     "output_type": "stream",
     "text": [
      "              precision    recall  f1-score   support\n",
      "\n",
      "      hiphop       0.85      0.89      0.87      1043\n",
      "       metal       0.84      0.67      0.75       608\n",
      "         pop       0.66      0.74      0.70      1028\n",
      "        rock       0.77      0.75      0.76      1643\n",
      "\n",
      "    accuracy                           0.77      4322\n",
      "   macro avg       0.78      0.76      0.77      4322\n",
      "weighted avg       0.77      0.77      0.77      4322\n",
      "\n"
     ]
    }
   ],
   "source": [
    "y_hat_2 = pipeline_model.predict(X_test_2)\n",
    "print(classification_report(y_test_2, y_hat_2))"
   ]
  },
  {
   "cell_type": "code",
   "execution_count": 53,
   "metadata": {},
   "outputs": [
    {
     "data": {
      "text/plain": [
       "rock      4140\n",
       "pop       2547\n",
       "hiphop    2535\n",
       "metal     1582\n",
       "Name: Estilo, dtype: int64"
      ]
     },
     "execution_count": 53,
     "metadata": {},
     "output_type": "execute_result"
    }
   ],
   "source": [
    "df_big.Estilo.value_counts()"
   ]
  },
  {
   "cell_type": "code",
   "execution_count": 54,
   "metadata": {},
   "outputs": [
    {
     "data": {
      "image/png": "[encoded data removed]",
      "text/plain": [
       "<Figure size 1440x720 with 1 Axes>"
      ]
     },
     "metadata": {
      "needs_background": "light"
     },
     "output_type": "display_data"
    }
   ],
   "source": [
    "#Análisis con matriz de confusión \n",
    "\n",
    "# en base a un vector de clases predichas\n",
    "y_hat_2 = pipeline_model.predict(X_test_2)\n",
    "plt.figure(figsize=(20, 10))\n",
    "# generar una matriz confusa donde el primer argumento es el vector de prueba\n",
    "# y el segundo es el vector de clases predichas.\n",
    "# el resultado lo dividimos por el largo del vector de prueba\n",
    "# para obtener un porcentaje por sobre la cantidad de casos\n",
    "cnf = confusion_matrix(y_test_2, y_hat_2)/len(y_test_2)\n",
    "# guardamos las etiquetas de las clases\n",
    "target_label = ['rock','hiphop','metal','pop']\n",
    "# Implementamos un mapa de calor definiendo las clases\n",
    "sns.heatmap(cnf, xticklabels=target_label,\n",
    "            yticklabels=target_label,\n",
    "# generamos las anotaciones en términos porcentuales\n",
    "            annot= True , fmt= \".1%\" ,\n",
    "# evitamos la barra y cambiamos el colormap\n",
    "            cbar= False , cmap= 'Blues' );\n"
   ]
  },
  {
   "cell_type": "code",
   "execution_count": 55,
   "metadata": {},
   "outputs": [
    {
     "data": {
      "text/plain": [
       "76.9"
      ]
     },
     "execution_count": 55,
     "metadata": {},
     "output_type": "execute_result"
    }
   ],
   "source": [
    "21.4+9.4+17.5+28.6"
   ]
  },
  {
   "cell_type": "markdown",
   "metadata": {},
   "source": [
    "Comentario: el nuevo modelo clasifica de forma correcta aproximadamente el 77% de los casos como positivos o negativos, una variación de solo un -1% respecto al modelo anterior.\n",
    "\n",
    "De acuerdo con los datos , rock, disminuye en los positivos/negativos verdaderos en un 2,6% manteniendo los falsos positivos/negativos relativamente constante. hiphop disminuye los falsos pero tambien los verdaderos lo que se refleja en la disminución en las métricas obtenidas. Algo que no es sencillo de explicar es el aumento de metal, ya que la cantidad de datos de la clase no aumentó, pero si aumentó sus positivos/negativos verdaderos, creció sobre más del doble. De acuerdo con lo anterior, una conclusión sería que al aumentar los datos de una clase, las otras clases pueden presentar una sensibilidad al cambio, viendose beneficiadas o afectadas en el nuevo modelo. Por último, pop, se ve beneficado al aumentar el número de muestras aún cuando sus positivos/negativos verdaderos disminuyen un 10% aprox., lo que se explica en parte al dsiminuir el error de predicción en las otras clases, en el primer modelo con un error de 13 disminuyendo a 8.5 en el segundo.\n"
   ]
  },
  {
   "cell_type": "code",
   "execution_count": null,
   "metadata": {},
   "outputs": [],
   "source": []
  }
 ],
 "metadata": {
  "kernelspec": {
   "display_name": "Python 3",
   "language": "python",
   "name": "python3"
  },
  "language_info": {
   "codemirror_mode": {
    "name": "ipython",
    "version": 3
   },
   "file_extension": ".py",
   "mimetype": "text/x-python",
   "name": "python",
   "nbconvert_exporter": "python",
   "pygments_lexer": "ipython3",
   "version": "3.8.5"
  }
 },
 "nbformat": 4,
 "nbformat_minor": 4
}
